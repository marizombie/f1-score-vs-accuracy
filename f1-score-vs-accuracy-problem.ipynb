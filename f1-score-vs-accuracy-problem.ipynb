{
 "cells": [
  {
   "cell_type": "code",
   "execution_count": 1,
   "id": "1e2b26b2",
   "metadata": {
    "ExecuteTime": {
     "end_time": "2022-04-04T19:54:25.524009Z",
     "start_time": "2022-04-04T19:54:21.770555Z"
    }
   },
   "outputs": [],
   "source": [
    "from sklearn.linear_model import LogisticRegression\n",
    "from sklearn.model_selection import train_test_split\n",
    "from pathlib import Path\n",
    "import pandas as pd"
   ]
  },
  {
   "cell_type": "markdown",
   "id": "b75e40cf",
   "metadata": {},
   "source": [
    "### Data loading"
   ]
  },
  {
   "cell_type": "code",
   "execution_count": 2,
   "id": "1137096e",
   "metadata": {
    "ExecuteTime": {
     "end_time": "2022-04-04T19:54:28.118915Z",
     "start_time": "2022-04-04T19:54:25.532248Z"
    }
   },
   "outputs": [
    {
     "data": {
      "text/html": [
       "<div>\n",
       "<style scoped>\n",
       "    .dataframe tbody tr th:only-of-type {\n",
       "        vertical-align: middle;\n",
       "    }\n",
       "\n",
       "    .dataframe tbody tr th {\n",
       "        vertical-align: top;\n",
       "    }\n",
       "\n",
       "    .dataframe thead th {\n",
       "        text-align: right;\n",
       "    }\n",
       "</style>\n",
       "<table border=\"1\" class=\"dataframe\">\n",
       "  <thead>\n",
       "    <tr style=\"text-align: right;\">\n",
       "      <th></th>\n",
       "      <th>HeartDisease</th>\n",
       "      <th>BMI</th>\n",
       "      <th>Smoking</th>\n",
       "      <th>AlcoholDrinking</th>\n",
       "      <th>Stroke</th>\n",
       "      <th>PhysicalHealth</th>\n",
       "      <th>MentalHealth</th>\n",
       "      <th>DiffWalking</th>\n",
       "      <th>Sex</th>\n",
       "      <th>AgeCategory</th>\n",
       "      <th>Race</th>\n",
       "      <th>Diabetic</th>\n",
       "      <th>PhysicalActivity</th>\n",
       "      <th>GenHealth</th>\n",
       "      <th>SleepTime</th>\n",
       "      <th>Asthma</th>\n",
       "      <th>KidneyDisease</th>\n",
       "      <th>SkinCancer</th>\n",
       "    </tr>\n",
       "  </thead>\n",
       "  <tbody>\n",
       "    <tr>\n",
       "      <th>0</th>\n",
       "      <td>No</td>\n",
       "      <td>16.60</td>\n",
       "      <td>Yes</td>\n",
       "      <td>No</td>\n",
       "      <td>No</td>\n",
       "      <td>3.0</td>\n",
       "      <td>30.0</td>\n",
       "      <td>No</td>\n",
       "      <td>Female</td>\n",
       "      <td>55-59</td>\n",
       "      <td>White</td>\n",
       "      <td>Yes</td>\n",
       "      <td>Yes</td>\n",
       "      <td>Very good</td>\n",
       "      <td>5.0</td>\n",
       "      <td>Yes</td>\n",
       "      <td>No</td>\n",
       "      <td>Yes</td>\n",
       "    </tr>\n",
       "    <tr>\n",
       "      <th>1</th>\n",
       "      <td>No</td>\n",
       "      <td>20.34</td>\n",
       "      <td>No</td>\n",
       "      <td>No</td>\n",
       "      <td>Yes</td>\n",
       "      <td>0.0</td>\n",
       "      <td>0.0</td>\n",
       "      <td>No</td>\n",
       "      <td>Female</td>\n",
       "      <td>80 or older</td>\n",
       "      <td>White</td>\n",
       "      <td>No</td>\n",
       "      <td>Yes</td>\n",
       "      <td>Very good</td>\n",
       "      <td>7.0</td>\n",
       "      <td>No</td>\n",
       "      <td>No</td>\n",
       "      <td>No</td>\n",
       "    </tr>\n",
       "    <tr>\n",
       "      <th>2</th>\n",
       "      <td>No</td>\n",
       "      <td>26.58</td>\n",
       "      <td>Yes</td>\n",
       "      <td>No</td>\n",
       "      <td>No</td>\n",
       "      <td>20.0</td>\n",
       "      <td>30.0</td>\n",
       "      <td>No</td>\n",
       "      <td>Male</td>\n",
       "      <td>65-69</td>\n",
       "      <td>White</td>\n",
       "      <td>Yes</td>\n",
       "      <td>Yes</td>\n",
       "      <td>Fair</td>\n",
       "      <td>8.0</td>\n",
       "      <td>Yes</td>\n",
       "      <td>No</td>\n",
       "      <td>No</td>\n",
       "    </tr>\n",
       "    <tr>\n",
       "      <th>3</th>\n",
       "      <td>No</td>\n",
       "      <td>24.21</td>\n",
       "      <td>No</td>\n",
       "      <td>No</td>\n",
       "      <td>No</td>\n",
       "      <td>0.0</td>\n",
       "      <td>0.0</td>\n",
       "      <td>No</td>\n",
       "      <td>Female</td>\n",
       "      <td>75-79</td>\n",
       "      <td>White</td>\n",
       "      <td>No</td>\n",
       "      <td>No</td>\n",
       "      <td>Good</td>\n",
       "      <td>6.0</td>\n",
       "      <td>No</td>\n",
       "      <td>No</td>\n",
       "      <td>Yes</td>\n",
       "    </tr>\n",
       "    <tr>\n",
       "      <th>4</th>\n",
       "      <td>No</td>\n",
       "      <td>23.71</td>\n",
       "      <td>No</td>\n",
       "      <td>No</td>\n",
       "      <td>No</td>\n",
       "      <td>28.0</td>\n",
       "      <td>0.0</td>\n",
       "      <td>Yes</td>\n",
       "      <td>Female</td>\n",
       "      <td>40-44</td>\n",
       "      <td>White</td>\n",
       "      <td>No</td>\n",
       "      <td>Yes</td>\n",
       "      <td>Very good</td>\n",
       "      <td>8.0</td>\n",
       "      <td>No</td>\n",
       "      <td>No</td>\n",
       "      <td>No</td>\n",
       "    </tr>\n",
       "  </tbody>\n",
       "</table>\n",
       "</div>"
      ],
      "text/plain": [
       "  HeartDisease    BMI Smoking AlcoholDrinking Stroke  PhysicalHealth  \\\n",
       "0           No  16.60     Yes              No     No             3.0   \n",
       "1           No  20.34      No              No    Yes             0.0   \n",
       "2           No  26.58     Yes              No     No            20.0   \n",
       "3           No  24.21      No              No     No             0.0   \n",
       "4           No  23.71      No              No     No            28.0   \n",
       "\n",
       "   MentalHealth DiffWalking     Sex  AgeCategory   Race Diabetic  \\\n",
       "0          30.0          No  Female        55-59  White      Yes   \n",
       "1           0.0          No  Female  80 or older  White       No   \n",
       "2          30.0          No    Male        65-69  White      Yes   \n",
       "3           0.0          No  Female        75-79  White       No   \n",
       "4           0.0         Yes  Female        40-44  White       No   \n",
       "\n",
       "  PhysicalActivity  GenHealth  SleepTime Asthma KidneyDisease SkinCancer  \n",
       "0              Yes  Very good        5.0    Yes            No        Yes  \n",
       "1              Yes  Very good        7.0     No            No         No  \n",
       "2              Yes       Fair        8.0    Yes            No         No  \n",
       "3               No       Good        6.0     No            No        Yes  \n",
       "4              Yes  Very good        8.0     No            No         No  "
      ]
     },
     "execution_count": 2,
     "metadata": {},
     "output_type": "execute_result"
    }
   ],
   "source": [
    "path = Path('~/datasets/')\n",
    "data = pd.read_csv(path/'heart_2020_cleaned.csv')\n",
    "data.head()"
   ]
  },
  {
   "cell_type": "code",
   "execution_count": 3,
   "id": "e1c02653",
   "metadata": {
    "ExecuteTime": {
     "end_time": "2022-04-04T19:54:31.868150Z",
     "start_time": "2022-04-04T19:54:28.132945Z"
    }
   },
   "outputs": [
    {
     "data": {
      "text/plain": [
       "<AxesSubplot:title={'center':'Class distribution'}, xlabel='HeartDisease'>"
      ]
     },
     "execution_count": 3,
     "metadata": {},
     "output_type": "execute_result"
    },
    {
     "data": {
      "image/png": "[encoded data removed]",
      "text/plain": [
       "<Figure size 432x288 with 1 Axes>"
      ]
     },
     "metadata": {
      "needs_background": "light"
     },
     "output_type": "display_data"
    }
   ],
   "source": [
    "data.pivot_table(index='HeartDisease', aggfunc='size').plot(kind='bar', title = 'Class distribution')"
   ]
  },
  {
   "cell_type": "code",
   "execution_count": 4,
   "id": "35062caa",
   "metadata": {
    "ExecuteTime": {
     "end_time": "2022-04-04T19:54:32.036918Z",
     "start_time": "2022-04-04T19:54:31.875812Z"
    }
   },
   "outputs": [
    {
     "data": {
      "text/html": [
       "<div>\n",
       "<style scoped>\n",
       "    .dataframe tbody tr th:only-of-type {\n",
       "        vertical-align: middle;\n",
       "    }\n",
       "\n",
       "    .dataframe tbody tr th {\n",
       "        vertical-align: top;\n",
       "    }\n",
       "\n",
       "    .dataframe thead th {\n",
       "        text-align: right;\n",
       "    }\n",
       "</style>\n",
       "<table border=\"1\" class=\"dataframe\">\n",
       "  <thead>\n",
       "    <tr style=\"text-align: right;\">\n",
       "      <th></th>\n",
       "      <th>HeartDisease</th>\n",
       "      <th>Smoking</th>\n",
       "      <th>AlcoholDrinking</th>\n",
       "      <th>Stroke</th>\n",
       "      <th>PhysicalHealth</th>\n",
       "      <th>MentalHealth</th>\n",
       "      <th>Sex</th>\n",
       "      <th>AgeCategory</th>\n",
       "      <th>Race</th>\n",
       "      <th>PhysicalActivity</th>\n",
       "      <th>SleepTime</th>\n",
       "      <th>Diabetic</th>\n",
       "    </tr>\n",
       "  </thead>\n",
       "  <tbody>\n",
       "    <tr>\n",
       "      <th>0</th>\n",
       "      <td>No</td>\n",
       "      <td>Yes</td>\n",
       "      <td>No</td>\n",
       "      <td>No</td>\n",
       "      <td>3.0</td>\n",
       "      <td>30.0</td>\n",
       "      <td>Female</td>\n",
       "      <td>55-59</td>\n",
       "      <td>White</td>\n",
       "      <td>Yes</td>\n",
       "      <td>5.0</td>\n",
       "      <td>Yes</td>\n",
       "    </tr>\n",
       "    <tr>\n",
       "      <th>1</th>\n",
       "      <td>No</td>\n",
       "      <td>No</td>\n",
       "      <td>No</td>\n",
       "      <td>Yes</td>\n",
       "      <td>0.0</td>\n",
       "      <td>0.0</td>\n",
       "      <td>Female</td>\n",
       "      <td>80 or older</td>\n",
       "      <td>White</td>\n",
       "      <td>Yes</td>\n",
       "      <td>7.0</td>\n",
       "      <td>No</td>\n",
       "    </tr>\n",
       "    <tr>\n",
       "      <th>2</th>\n",
       "      <td>No</td>\n",
       "      <td>Yes</td>\n",
       "      <td>No</td>\n",
       "      <td>No</td>\n",
       "      <td>20.0</td>\n",
       "      <td>30.0</td>\n",
       "      <td>Male</td>\n",
       "      <td>65-69</td>\n",
       "      <td>White</td>\n",
       "      <td>Yes</td>\n",
       "      <td>8.0</td>\n",
       "      <td>Yes</td>\n",
       "    </tr>\n",
       "    <tr>\n",
       "      <th>3</th>\n",
       "      <td>No</td>\n",
       "      <td>No</td>\n",
       "      <td>No</td>\n",
       "      <td>No</td>\n",
       "      <td>0.0</td>\n",
       "      <td>0.0</td>\n",
       "      <td>Female</td>\n",
       "      <td>75-79</td>\n",
       "      <td>White</td>\n",
       "      <td>No</td>\n",
       "      <td>6.0</td>\n",
       "      <td>No</td>\n",
       "    </tr>\n",
       "    <tr>\n",
       "      <th>4</th>\n",
       "      <td>No</td>\n",
       "      <td>No</td>\n",
       "      <td>No</td>\n",
       "      <td>No</td>\n",
       "      <td>28.0</td>\n",
       "      <td>0.0</td>\n",
       "      <td>Female</td>\n",
       "      <td>40-44</td>\n",
       "      <td>White</td>\n",
       "      <td>Yes</td>\n",
       "      <td>8.0</td>\n",
       "      <td>No</td>\n",
       "    </tr>\n",
       "  </tbody>\n",
       "</table>\n",
       "</div>"
      ],
      "text/plain": [
       "  HeartDisease Smoking AlcoholDrinking Stroke  PhysicalHealth  MentalHealth  \\\n",
       "0           No     Yes              No     No             3.0          30.0   \n",
       "1           No      No              No    Yes             0.0           0.0   \n",
       "2           No     Yes              No     No            20.0          30.0   \n",
       "3           No      No              No     No             0.0           0.0   \n",
       "4           No      No              No     No            28.0           0.0   \n",
       "\n",
       "      Sex  AgeCategory   Race PhysicalActivity  SleepTime Diabetic  \n",
       "0  Female        55-59  White              Yes        5.0      Yes  \n",
       "1  Female  80 or older  White              Yes        7.0       No  \n",
       "2    Male        65-69  White              Yes        8.0      Yes  \n",
       "3  Female        75-79  White               No        6.0       No  \n",
       "4  Female        40-44  White              Yes        8.0       No  "
      ]
     },
     "execution_count": 4,
     "metadata": {},
     "output_type": "execute_result"
    }
   ],
   "source": [
    "filtered_data = data[['HeartDisease', 'Smoking','AlcoholDrinking','Stroke',\n",
    "                 'PhysicalHealth','MentalHealth','Sex','AgeCategory',\n",
    "                 'Race', 'PhysicalActivity','SleepTime', 'Diabetic']]\n",
    "filtered_data.head()"
   ]
  },
  {
   "cell_type": "markdown",
   "id": "1d46362e",
   "metadata": {},
   "source": [
    "### Data encoding"
   ]
  },
  {
   "cell_type": "code",
   "execution_count": 5,
   "id": "7ee7d097",
   "metadata": {
    "ExecuteTime": {
     "end_time": "2022-04-04T19:54:32.208137Z",
     "start_time": "2022-04-04T19:54:32.048563Z"
    }
   },
   "outputs": [],
   "source": [
    "encoded_data = filtered_data.copy()"
   ]
  },
  {
   "cell_type": "code",
   "execution_count": 6,
   "id": "f2ea756c",
   "metadata": {
    "ExecuteTime": {
     "end_time": "2022-04-04T19:54:33.398250Z",
     "start_time": "2022-04-04T19:54:32.216531Z"
    }
   },
   "outputs": [
    {
     "data": {
      "text/html": [
       "<div>\n",
       "<style scoped>\n",
       "    .dataframe tbody tr th:only-of-type {\n",
       "        vertical-align: middle;\n",
       "    }\n",
       "\n",
       "    .dataframe tbody tr th {\n",
       "        vertical-align: top;\n",
       "    }\n",
       "\n",
       "    .dataframe thead th {\n",
       "        text-align: right;\n",
       "    }\n",
       "</style>\n",
       "<table border=\"1\" class=\"dataframe\">\n",
       "  <thead>\n",
       "    <tr style=\"text-align: right;\">\n",
       "      <th></th>\n",
       "      <th>HeartDisease</th>\n",
       "      <th>Smoking</th>\n",
       "      <th>AlcoholDrinking</th>\n",
       "      <th>Stroke</th>\n",
       "      <th>PhysicalHealth</th>\n",
       "      <th>MentalHealth</th>\n",
       "      <th>Sex</th>\n",
       "      <th>AgeCategory</th>\n",
       "      <th>Race</th>\n",
       "      <th>PhysicalActivity</th>\n",
       "      <th>SleepTime</th>\n",
       "      <th>Diabetic</th>\n",
       "    </tr>\n",
       "  </thead>\n",
       "  <tbody>\n",
       "    <tr>\n",
       "      <th>0</th>\n",
       "      <td>0</td>\n",
       "      <td>1</td>\n",
       "      <td>0</td>\n",
       "      <td>0</td>\n",
       "      <td>3</td>\n",
       "      <td>30</td>\n",
       "      <td>0</td>\n",
       "      <td>7</td>\n",
       "      <td>5</td>\n",
       "      <td>1</td>\n",
       "      <td>4</td>\n",
       "      <td>2</td>\n",
       "    </tr>\n",
       "    <tr>\n",
       "      <th>1</th>\n",
       "      <td>0</td>\n",
       "      <td>0</td>\n",
       "      <td>0</td>\n",
       "      <td>1</td>\n",
       "      <td>0</td>\n",
       "      <td>0</td>\n",
       "      <td>0</td>\n",
       "      <td>12</td>\n",
       "      <td>5</td>\n",
       "      <td>1</td>\n",
       "      <td>6</td>\n",
       "      <td>0</td>\n",
       "    </tr>\n",
       "    <tr>\n",
       "      <th>2</th>\n",
       "      <td>0</td>\n",
       "      <td>1</td>\n",
       "      <td>0</td>\n",
       "      <td>0</td>\n",
       "      <td>20</td>\n",
       "      <td>30</td>\n",
       "      <td>1</td>\n",
       "      <td>9</td>\n",
       "      <td>5</td>\n",
       "      <td>1</td>\n",
       "      <td>7</td>\n",
       "      <td>2</td>\n",
       "    </tr>\n",
       "    <tr>\n",
       "      <th>3</th>\n",
       "      <td>0</td>\n",
       "      <td>0</td>\n",
       "      <td>0</td>\n",
       "      <td>0</td>\n",
       "      <td>0</td>\n",
       "      <td>0</td>\n",
       "      <td>0</td>\n",
       "      <td>11</td>\n",
       "      <td>5</td>\n",
       "      <td>0</td>\n",
       "      <td>5</td>\n",
       "      <td>0</td>\n",
       "    </tr>\n",
       "    <tr>\n",
       "      <th>4</th>\n",
       "      <td>0</td>\n",
       "      <td>0</td>\n",
       "      <td>0</td>\n",
       "      <td>0</td>\n",
       "      <td>28</td>\n",
       "      <td>0</td>\n",
       "      <td>0</td>\n",
       "      <td>4</td>\n",
       "      <td>5</td>\n",
       "      <td>1</td>\n",
       "      <td>7</td>\n",
       "      <td>0</td>\n",
       "    </tr>\n",
       "  </tbody>\n",
       "</table>\n",
       "</div>"
      ],
      "text/plain": [
       "   HeartDisease  Smoking  AlcoholDrinking  Stroke  PhysicalHealth  \\\n",
       "0             0        1                0       0               3   \n",
       "1             0        0                0       1               0   \n",
       "2             0        1                0       0              20   \n",
       "3             0        0                0       0               0   \n",
       "4             0        0                0       0              28   \n",
       "\n",
       "   MentalHealth  Sex  AgeCategory  Race  PhysicalActivity  SleepTime  Diabetic  \n",
       "0            30    0            7     5                 1          4         2  \n",
       "1             0    0           12     5                 1          6         0  \n",
       "2            30    1            9     5                 1          7         2  \n",
       "3             0    0           11     5                 0          5         0  \n",
       "4             0    0            4     5                 1          7         0  "
      ]
     },
     "execution_count": 6,
     "metadata": {},
     "output_type": "execute_result"
    }
   ],
   "source": [
    "encoded_data['HeartDisease'] = filtered_data['HeartDisease'].astype('category').cat.codes\n",
    "encoded_data['Smoking'] = filtered_data['Smoking'].astype('category').cat.codes\n",
    "encoded_data['AlcoholDrinking'] = filtered_data['AlcoholDrinking'].astype('category').cat.codes\n",
    "encoded_data['Stroke'] = filtered_data['Stroke'].astype('category').cat.codes\n",
    "encoded_data['PhysicalHealth'] = filtered_data['PhysicalHealth'].astype('category').cat.codes\n",
    "encoded_data['MentalHealth'] = filtered_data['MentalHealth'].astype('category').cat.codes\n",
    "encoded_data['Sex'] = filtered_data['Sex'].astype('category').cat.codes\n",
    "encoded_data['AgeCategory'] = filtered_data['AgeCategory'].astype('category').cat.codes\n",
    "encoded_data['Race'] = filtered_data['Race'].astype('category').cat.codes\n",
    "encoded_data['PhysicalActivity'] = filtered_data['PhysicalActivity'].astype('category').cat.codes\n",
    "encoded_data['SleepTime'] = filtered_data['SleepTime'].astype('category').cat.codes\n",
    "encoded_data['Diabetic'] = filtered_data['Diabetic'].astype('category').cat.codes\n",
    "\n",
    "encoded_data.head()"
   ]
  },
  {
   "cell_type": "markdown",
   "id": "ce7a77ac",
   "metadata": {},
   "source": [
    "### Model training"
   ]
  },
  {
   "cell_type": "code",
   "execution_count": 7,
   "id": "7b081bab",
   "metadata": {
    "ExecuteTime": {
     "end_time": "2022-04-04T19:54:34.571032Z",
     "start_time": "2022-04-04T19:54:33.406584Z"
    }
   },
   "outputs": [],
   "source": [
    "#stratified sampling forces the same class balance on the train and test dataset as the original data\n",
    "train, test = train_test_split(encoded_data, test_size=0.3, stratify=data['HeartDisease'])"
   ]
  },
  {
   "cell_type": "code",
   "execution_count": 8,
   "id": "2765bde6",
   "metadata": {
    "ExecuteTime": {
     "end_time": "2022-04-04T19:54:34.591745Z",
     "start_time": "2022-04-04T19:54:34.577850Z"
    }
   },
   "outputs": [],
   "source": [
    "model = LogisticRegression(max_iter=1000)"
   ]
  },
  {
   "cell_type": "code",
   "execution_count": 9,
   "id": "67dc533f",
   "metadata": {
    "ExecuteTime": {
     "end_time": "2022-04-04T19:54:48.568622Z",
     "start_time": "2022-04-04T19:54:34.600278Z"
    }
   },
   "outputs": [
    {
     "data": {
      "text/plain": [
       "LogisticRegression(max_iter=1000)"
      ]
     },
     "execution_count": 9,
     "metadata": {},
     "output_type": "execute_result"
    }
   ],
   "source": [
    "model.fit(train[['Smoking','AlcoholDrinking','Stroke',\n",
    "                 'PhysicalHealth','MentalHealth','Sex','AgeCategory',\n",
    "                 'Race', 'PhysicalActivity','SleepTime', 'Diabetic']],\n",
    "         train['HeartDisease'])"
   ]
  },
  {
   "cell_type": "code",
   "execution_count": 10,
   "id": "38e78e0c",
   "metadata": {
    "ExecuteTime": {
     "end_time": "2022-04-04T19:54:48.630665Z",
     "start_time": "2022-04-04T19:54:48.579465Z"
    }
   },
   "outputs": [],
   "source": [
    "preds = model.predict(test[['Smoking','AlcoholDrinking','Stroke',\n",
    "                 'PhysicalHealth','MentalHealth','Sex','AgeCategory',\n",
    "                 'Race', 'PhysicalActivity','SleepTime', 'Diabetic']])"
   ]
  },
  {
   "cell_type": "markdown",
   "id": "fefa5bb2",
   "metadata": {},
   "source": [
    "###  Checking out metrics"
   ]
  },
  {
   "cell_type": "code",
   "execution_count": 11,
   "id": "322ec686",
   "metadata": {
    "ExecuteTime": {
     "end_time": "2022-04-04T19:54:48.665255Z",
     "start_time": "2022-04-04T19:54:48.642930Z"
    }
   },
   "outputs": [],
   "source": [
    "from sklearn.metrics import confusion_matrix, f1_score, precision_score, recall_score, accuracy_score, classification_report"
   ]
  },
  {
   "cell_type": "code",
   "execution_count": 12,
   "id": "4b3bc1af",
   "metadata": {
    "ExecuteTime": {
     "end_time": "2022-04-04T19:54:48.727465Z",
     "start_time": "2022-04-04T19:54:48.702960Z"
    }
   },
   "outputs": [
    {
     "data": {
      "text/plain": [
       "95939"
      ]
     },
     "execution_count": 12,
     "metadata": {},
     "output_type": "execute_result"
    }
   ],
   "source": [
    "len(test)"
   ]
  },
  {
   "cell_type": "code",
   "execution_count": 13,
   "id": "b4f3e693",
   "metadata": {
    "ExecuteTime": {
     "end_time": "2022-04-04T19:54:49.209413Z",
     "start_time": "2022-04-04T19:54:48.743430Z"
    }
   },
   "outputs": [
    {
     "data": {
      "text/plain": [
       "<AxesSubplot:title={'center':'Class distribution'}, xlabel='HeartDisease'>"
      ]
     },
     "execution_count": 13,
     "metadata": {},
     "output_type": "execute_result"
    },
    {
     "data": {
      "image/png": "[encoded data removed]",
      "text/plain": [
       "<Figure size 432x288 with 1 Axes>"
      ]
     },
     "metadata": {
      "needs_background": "light"
     },
     "output_type": "display_data"
    }
   ],
   "source": [
    "test.pivot_table(index='HeartDisease', aggfunc='size').plot(kind='bar', title = 'Class distribution')"
   ]
  },
  {
   "cell_type": "code",
   "execution_count": 14,
   "id": "842ec48e",
   "metadata": {
    "ExecuteTime": {
     "end_time": "2022-04-04T19:54:49.305067Z",
     "start_time": "2022-04-04T19:54:49.218527Z"
    }
   },
   "outputs": [
    {
     "name": "stdout",
     "output_type": "stream",
     "text": [
      "True negatives: 87097\n",
      "False positives: 630\n",
      "False negatives: 7580\n",
      "True Positives: 632\n"
     ]
    }
   ],
   "source": [
    "true_negatives, false_positives, false_negatives, true_positives = confusion_matrix(test['HeartDisease'], preds).ravel()\n",
    "print(f'True negatives: {true_negatives}')\n",
    "print(f'False positives: {false_positives}') \n",
    "print(f'False negatives: {false_negatives}')\n",
    "print(f'True Positives: {true_positives}')"
   ]
  },
  {
   "cell_type": "code",
   "execution_count": 15,
   "id": "f3181694",
   "metadata": {
    "ExecuteTime": {
     "end_time": "2022-04-04T19:54:49.463642Z",
     "start_time": "2022-04-04T19:54:49.314530Z"
    }
   },
   "outputs": [
    {
     "data": {
      "text/plain": [
       "0.5007923930269413"
      ]
     },
     "execution_count": 15,
     "metadata": {},
     "output_type": "execute_result"
    }
   ],
   "source": [
    "precision_score(test['HeartDisease'], preds)"
   ]
  },
  {
   "cell_type": "code",
   "execution_count": 16,
   "id": "05734736",
   "metadata": {
    "ExecuteTime": {
     "end_time": "2022-04-04T19:54:49.626003Z",
     "start_time": "2022-04-04T19:54:49.475918Z"
    }
   },
   "outputs": [
    {
     "data": {
      "text/plain": [
       "0.07696054554310765"
      ]
     },
     "execution_count": 16,
     "metadata": {},
     "output_type": "execute_result"
    }
   ],
   "source": [
    "recall_score(test['HeartDisease'], preds)"
   ]
  },
  {
   "cell_type": "code",
   "execution_count": 17,
   "id": "8b47f67d",
   "metadata": {
    "ExecuteTime": {
     "end_time": "2022-04-04T19:54:49.780917Z",
     "start_time": "2022-04-04T19:54:49.635609Z"
    }
   },
   "outputs": [
    {
     "data": {
      "text/plain": [
       "0.1334177749630568"
      ]
     },
     "execution_count": 17,
     "metadata": {},
     "output_type": "execute_result"
    }
   ],
   "source": [
    "f1_score(test['HeartDisease'], preds)"
   ]
  },
  {
   "cell_type": "code",
   "execution_count": 18,
   "id": "74ffd323",
   "metadata": {
    "ExecuteTime": {
     "end_time": "2022-04-04T19:54:49.837929Z",
     "start_time": "2022-04-04T19:54:49.789127Z"
    }
   },
   "outputs": [
    {
     "data": {
      "text/plain": [
       "0.9144247907524573"
      ]
     },
     "execution_count": 18,
     "metadata": {},
     "output_type": "execute_result"
    }
   ],
   "source": [
    "accuracy_score(test['HeartDisease'], preds)"
   ]
  },
  {
   "cell_type": "code",
   "execution_count": 19,
   "id": "494d70ea",
   "metadata": {
    "ExecuteTime": {
     "end_time": "2022-04-04T19:54:50.414311Z",
     "start_time": "2022-04-04T19:54:49.860007Z"
    }
   },
   "outputs": [
    {
     "name": "stdout",
     "output_type": "stream",
     "text": [
      "              precision    recall  f1-score   support\n",
      "\n",
      "           0       0.92      0.99      0.95     87727\n",
      "           1       0.50      0.08      0.13      8212\n",
      "\n",
      "    accuracy                           0.91     95939\n",
      "   macro avg       0.71      0.53      0.54     95939\n",
      "weighted avg       0.88      0.91      0.88     95939\n",
      "\n"
     ]
    }
   ],
   "source": [
    "print(classification_report(test['HeartDisease'], preds))"
   ]
  },
  {
   "cell_type": "markdown",
   "id": "cbbed8e4",
   "metadata": {},
   "source": [
    "### Trying to improve f1 score"
   ]
  },
  {
   "cell_type": "code",
   "execution_count": 20,
   "id": "86b9819b",
   "metadata": {
    "ExecuteTime": {
     "end_time": "2022-04-04T19:54:50.665391Z",
     "start_time": "2022-04-04T19:54:50.424041Z"
    }
   },
   "outputs": [],
   "source": [
    "from imblearn.over_sampling import SMOTE"
   ]
  },
  {
   "cell_type": "code",
   "execution_count": 21,
   "id": "40e1d0d7",
   "metadata": {
    "ExecuteTime": {
     "end_time": "2022-04-04T19:54:53.819084Z",
     "start_time": "2022-04-04T19:54:50.673182Z"
    }
   },
   "outputs": [],
   "source": [
    "X_resampled, y_resampled = SMOTE().fit_resample(\n",
    "    train[['Smoking','AlcoholDrinking','Stroke',\n",
    "           'PhysicalHealth','MentalHealth','Sex','AgeCategory',\n",
    "           'Race', 'PhysicalActivity','SleepTime', 'Diabetic']], train['HeartDisease'])"
   ]
  },
  {
   "cell_type": "code",
   "execution_count": 22,
   "id": "46a06dfb",
   "metadata": {
    "ExecuteTime": {
     "end_time": "2022-04-04T19:54:54.348950Z",
     "start_time": "2022-04-04T19:54:53.826485Z"
    }
   },
   "outputs": [
    {
     "data": {
      "text/plain": [
       "<AxesSubplot:title={'center':'Class distribution after appying SMOTE'}, xlabel='HeartDisease'>"
      ]
     },
     "execution_count": 22,
     "metadata": {},
     "output_type": "execute_result"
    },
    {
     "data": {
      "image/png": "[encoded data removed]",
      "text/plain": [
       "<Figure size 432x288 with 1 Axes>"
      ]
     },
     "metadata": {
      "needs_background": "light"
     },
     "output_type": "display_data"
    }
   ],
   "source": [
    "pd.Series(y_resampled).value_counts().plot(kind='bar', title='Class distribution after appying SMOTE', xlabel='HeartDisease')"
   ]
  },
  {
   "cell_type": "code",
   "execution_count": 23,
   "id": "7e47efd2",
   "metadata": {
    "ExecuteTime": {
     "end_time": "2022-04-04T19:57:38.787685Z",
     "start_time": "2022-04-04T19:57:38.775449Z"
    }
   },
   "outputs": [],
   "source": [
    "new_model = LogisticRegression(max_iter=1000)"
   ]
  },
  {
   "cell_type": "code",
   "execution_count": 24,
   "id": "05381ce6",
   "metadata": {
    "ExecuteTime": {
     "end_time": "2022-04-04T19:58:37.235933Z",
     "start_time": "2022-04-04T19:58:10.436933Z"
    }
   },
   "outputs": [
    {
     "data": {
      "text/plain": [
       "LogisticRegression(max_iter=1000)"
      ]
     },
     "execution_count": 24,
     "metadata": {},
     "output_type": "execute_result"
    }
   ],
   "source": [
    "new_model.fit(X_resampled, y_resampled)"
   ]
  },
  {
   "cell_type": "code",
   "execution_count": 25,
   "id": "3fc41746",
   "metadata": {
    "ExecuteTime": {
     "end_time": "2022-04-04T19:58:40.956660Z",
     "start_time": "2022-04-04T19:58:40.924625Z"
    }
   },
   "outputs": [],
   "source": [
    "preds = new_model.predict(test[['Smoking','AlcoholDrinking','Stroke',\n",
    "                 'PhysicalHealth','MentalHealth','Sex','AgeCategory',\n",
    "                 'Race', 'PhysicalActivity','SleepTime', 'Diabetic']])"
   ]
  },
  {
   "cell_type": "code",
   "execution_count": 26,
   "id": "00ffd8fc",
   "metadata": {
    "ExecuteTime": {
     "end_time": "2022-04-04T19:59:03.818539Z",
     "start_time": "2022-04-04T19:59:03.738854Z"
    }
   },
   "outputs": [
    {
     "name": "stdout",
     "output_type": "stream",
     "text": [
      "True negatives: 61609\n",
      "False positives: 26118\n",
      "False negatives: 1889\n",
      "True Positives: 6323\n"
     ]
    }
   ],
   "source": [
    "true_negatives, false_positives, false_negatives, true_positives = confusion_matrix(test['HeartDisease'], preds).ravel()\n",
    "print(f'True negatives: {true_negatives}')\n",
    "print(f'False positives: {false_positives}') \n",
    "print(f'False negatives: {false_negatives}')\n",
    "print(f'True Positives: {true_positives}')"
   ]
  },
  {
   "cell_type": "code",
   "execution_count": 27,
   "id": "45fac3f0",
   "metadata": {
    "ExecuteTime": {
     "end_time": "2022-04-04T20:00:58.765693Z",
     "start_time": "2022-04-04T20:00:58.755133Z"
    }
   },
   "outputs": [],
   "source": [
    "# So SMOTE applying helped to increase True Positives, but also there are more false positives now. \n",
    "# This works for some specific tasks, but still data preparation needs to be done."
   ]
  },
  {
   "cell_type": "code",
   "execution_count": 28,
   "id": "89addfc6",
   "metadata": {
    "ExecuteTime": {
     "end_time": "2022-04-04T20:01:09.667076Z",
     "start_time": "2022-04-04T20:01:09.026375Z"
    }
   },
   "outputs": [
    {
     "name": "stdout",
     "output_type": "stream",
     "text": [
      "              precision    recall  f1-score   support\n",
      "\n",
      "           0       0.97      0.70      0.81     87727\n",
      "           1       0.19      0.77      0.31      8212\n",
      "\n",
      "    accuracy                           0.71     95939\n",
      "   macro avg       0.58      0.74      0.56     95939\n",
      "weighted avg       0.90      0.71      0.77     95939\n",
      "\n"
     ]
    }
   ],
   "source": [
    "print(classification_report(test['HeartDisease'], preds))"
   ]
  },
  {
   "cell_type": "code",
   "execution_count": null,
   "id": "81c62068",
   "metadata": {},
   "outputs": [],
   "source": [
    "# try decision tree here "
   ]
  }
 ],
 "metadata": {
  "kernelspec": {
   "display_name": "Python 3 (ipykernel)",
   "language": "python",
   "name": "python3"
  },
  "language_info": {
   "codemirror_mode": {
    "name": "ipython",
    "version": 3
   },
   "file_extension": ".py",
   "mimetype": "text/x-python",
   "name": "python",
   "nbconvert_exporter": "python",
   "pygments_lexer": "ipython3",
   "version": "3.7.11"
  }
 },
 "nbformat": 4,
 "nbformat_minor": 5
}
